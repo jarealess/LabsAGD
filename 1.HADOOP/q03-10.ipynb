{
 "cells": [
  {
   "cell_type": "code",
   "execution_count": 15,
   "metadata": {},
   "outputs": [],
   "source": [
    "import pandas as pd\n",
    "\n",
    "df = pd.read_csv(\n",
    "    \"https://raw.githubusercontent.com/AGD-2019-2-final/evaluacion-final-jarealess/master/01-hadoop-50/q10-10/data.csv\",\n",
    "    sep = '\\t',\n",
    "    thousands = None,\n",
    "    decimal = '.')\n",
    "\n",
    "df.to_csv('data.csv')\n",
    "    "
   ]
  },
  {
   "cell_type": "code",
   "execution_count": 16,
   "metadata": {},
   "outputs": [
    {
     "name": "stdout",
     "output_type": "stream",
     "text": [
      "Overwriting mapper.py\n"
     ]
    }
   ],
   "source": [
    "%%writefile mapper.py\n",
    "#! /usr/bin/env python\n",
    "\n",
    "import sys\n",
    "from operator import itemgetter\n",
    "\n",
    "if __name__ == \"__main__\":\n",
    "\n",
    "    ##\n",
    "    ## itera sobre cada linea de codigo recibida\n",
    "    ## a traves del flujo de entrada\n",
    "    ##\n",
    "\n",
    "    tup = []\n",
    "    for line in sys.stdin:\n",
    "        value, lista = line.split\n",
    "        lista = line.split()[1]\n",
    "\n",
    "        for letra in lista.split(','):\n",
    "          tup.append((letra, value))\n",
    "\n",
    "tup2 = sorted([row for row in tup], key = itemgetter(0))\n",
    "\n",
    "for row in tup2:\n",
    "    sys.stdout.write(\"{}\\t{}\\n\".format(row[0], row[1]))"
   ]
  },
  {
   "cell_type": "code",
   "execution_count": 17,
   "metadata": {},
   "outputs": [
    {
     "ename": "SyntaxError",
     "evalue": "invalid syntax (data.csv, line 1)",
     "output_type": "error",
     "traceback": [
      "\u001b[1;36m  File \u001b[1;32m\"C:\\Users\\Usuario\\Documents\\Especializacion en Analitica\\Analítica de grandes datos\\Laboratorios de Prog\\hadoop\\data.csv\"\u001b[1;36m, line \u001b[1;32m1\u001b[0m\n\u001b[1;33m    ,0,\"C,F,A,B,D,I,H\"\u001b[0m\n\u001b[1;37m    ^\u001b[0m\n\u001b[1;31mSyntaxError\u001b[0m\u001b[1;31m:\u001b[0m invalid syntax\n"
     ]
    }
   ],
   "source": [
    "%run ./data.csv | ./mapper.py | head"
   ]
  },
  {
   "cell_type": "code",
   "execution_count": null,
   "metadata": {},
   "outputs": [],
   "source": []
  }
 ],
 "metadata": {
  "kernelspec": {
   "display_name": "Python 3",
   "language": "python",
   "name": "python3"
  },
  "language_info": {
   "codemirror_mode": {
    "name": "ipython",
    "version": 3
   },
   "file_extension": ".py",
   "mimetype": "text/x-python",
   "name": "python",
   "nbconvert_exporter": "python",
   "pygments_lexer": "ipython3",
   "version": "3.7.4"
  }
 },
 "nbformat": 4,
 "nbformat_minor": 2
}
